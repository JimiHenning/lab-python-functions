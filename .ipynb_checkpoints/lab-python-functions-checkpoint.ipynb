{
 "cells": [
  {
   "cell_type": "markdown",
   "id": "25d7736c-ba17-4aff-b6bb-66eba20fbf4e",
   "metadata": {},
   "source": [
    "# Lab | Functions"
   ]
  },
  {
   "cell_type": "markdown",
   "id": "65336f10-06f8-4fb1-a3ef-15d6c0a5508d",
   "metadata": {},
   "source": [
    "## Exercise: Managing Customer Orders with Functions\n",
    "\n",
    "In the previous exercise, you improved the code for managing customer orders by using loops and flow control. Now, let's take it a step further and refactor the code by introducing functions.\n",
    "Follow the steps below to complete the exercise:\n",
    "1. Define a function named `initialize_inventory` that takes `products` as a parameter. Inside the function, implement the code for initializing the inventory dictionary using a loop and user input.\n",
    "2. Define a function named `get_customer_orders` that takes no parameters. Inside the function, implement the code for prompting the user to enter the product names using a loop. The function should return the `customer_orders` set.\n",
    "3. Define a function named `update_inventory` that takes `customer_orders` and `inventory` as parameters. Inside the function, implement the code for updating the inventory dictionary based on the customer orders.\n",
    "4. Define a function named `calculate_order_statistics` that takes `customer_orders` and `products` as parameters. Inside the function, implement the code for calculating the order statistics (total products ordered, and percentage of unique products ordered). The function should return these values.\n",
    "5. Define a function named `print_order_statistics` that takes `order_statistics` as a parameter. Inside the function, implement the code for printing the order statistics.\n",
    "6. Define a function named `print_updated_inventory` that takes `inventory` as a parameter. Inside the function, implement the code for printing the updated inventory.\n",
    "7. Call the functions in the appropriate sequence to execute the program and manage customer orders.\n",
    "Hints for functions:\n",
    "- Consider the input parameters required for each function and their return values.\n",
    "- Utilize function parameters and return values to transfer data between functions.\n",
    "- Test your functions individually to ensure they work correctly."
   ]
  },
  {
   "cell_type": "code",
   "execution_count": 2,
   "id": "3a54d102-38f3-4eff-8077-0c475619d973",
   "metadata": {},
   "outputs": [],
   "source": [
    "products = [\"t-shirt\", \"mug\", \"hat\", \"book\", \"keychain\"]\n",
    "def initialize_inventory(products):\n",
    "    \"\"\"\n",
    "    This function initializes and fills the inventory dictionary\n",
    "    using a loop and user input.\n",
    "    \"\"\"\n",
    "    inventory = {} \n",
    "    #ask the user for the quantity of each product in the list\n",
    "    for item in products:\n",
    "        #Loop until a valid integer has been entered\n",
    "        quantity = input(f\"How many {item}s are in the inventory?\")\n",
    "        while quantity.isdigit() == False:\n",
    "            print (\"Please enter a numerical value!\")\n",
    "            quantity = input(f\"How many {item}s are in the inventory?\")\n",
    "        else:\n",
    "            quantity = int(quantity)\n",
    "            inventory[item] = quantity  \n",
    "\n",
    "    print (\"The inventory contains the following items:\", inventory)\n",
    "    return inventory"
   ]
  },
  {
   "cell_type": "code",
   "execution_count": 4,
   "id": "4ff1b5ee-d809-4805-aa92-d9b25895ee24",
   "metadata": {},
   "outputs": [],
   "source": [
    "def get_customer_orders():\n",
    "    \"\"\"\n",
    "    This function takes the customers orders through a loop\n",
    "    \"\"\"\n",
    "    customer_orders = set()\n",
    "\n",
    "    order = input(\"Please enter an item from the inventory the customer wants to order:\")    \n",
    "    while order not in products:\n",
    "        print (\"Item not in Inventory!\")\n",
    "        order = input(\"Please enter an item from the inventory the customer wants to order:\")\n",
    "    else:\n",
    "        customer_orders.add(order)\n",
    "\n",
    "\n",
    "    order_continue = input(\"Do you want to order another item, yes or no?\")\n",
    "\n",
    "    while True:\n",
    "        while order_continue not in [\"yes\", \"no\"]:\n",
    "            print(\"Please enter either 'yes' or 'no'!\")\n",
    "            order_continue = input(\"Do you want to order another item, yes or no? \")\n",
    "\n",
    "        if order_continue == \"no\":\n",
    "            print(\"Thank you for your order!\")\n",
    "            break\n",
    "        else:\n",
    "            order = input(\"Please enter an item from the inventory the customer wants to order:\")\n",
    "            while order not in products:\n",
    "                print (\"Item not in Inventory!\")\n",
    "                order = input(\"Please enter an item from the inventory the customer wants to order:\")\n",
    "\n",
    "            customer_orders.add(order)\n",
    "\n",
    "            order_continue = input(\"Do you want to order another item, yes or no? \")\n",
    "    \n",
    "\n",
    "\n",
    "    print (f\"The customer ordered: {customer_orders}\")\n",
    "    return customer_orders"
   ]
  },
  {
   "cell_type": "code",
   "execution_count": 30,
   "id": "b0ae4997-53d3-41b1-82be-6f1d8eeb8e11",
   "metadata": {},
   "outputs": [],
   "source": [
    "def update_inventory (customer_oders, inventory):\n",
    "    for i in range (0,len(products)):\n",
    "        if products[i] in customer_orders:\n",
    "            inventory[products[i]] -= 1"
   ]
  },
  {
   "cell_type": "code",
   "execution_count": 32,
   "id": "f612a6d4-e72e-4b28-a865-2c512c06f6ca",
   "metadata": {},
   "outputs": [],
   "source": [
    "def calculate_order_statistics (customer_orders, products):\n",
    "    total_products_ordered = len(customer_orders)\n",
    "    percentage = total_products_ordered/len(products)*100\n",
    "    return total_products_ordered, percentage\n",
    "\n"
   ]
  },
  {
   "cell_type": "code",
   "execution_count": 34,
   "id": "4699658c-2af7-49e1-a3d7-cd8b743667af",
   "metadata": {},
   "outputs": [],
   "source": [
    "def print_order_statistics (order_statistics):\n",
    "    total_products_ordered = order_statistics[0]\n",
    "    percentage = order_statistics[1]\n",
    "    print (f\"The customer ordered {total_products_ordered} products, that is {percentage}% of the unique products!\")\n"
   ]
  },
  {
   "cell_type": "code",
   "execution_count": 40,
   "id": "eaba7fb1-4480-4046-a394-f989f8112cca",
   "metadata": {},
   "outputs": [
    {
     "name": "stdin",
     "output_type": "stream",
     "text": [
      "How many t-shirts are in the inventory? 10\n",
      "How many mugs are in the inventory? 4\n",
      "How many hats are in the inventory? 5\n",
      "How many books are in the inventory? 6\n",
      "How many keychains are in the inventory? 67\n"
     ]
    },
    {
     "name": "stdout",
     "output_type": "stream",
     "text": [
      "The inventory contains the following items: {'t-shirt': 10, 'mug': 4, 'hat': 5, 'book': 6, 'keychain': 67}\n"
     ]
    },
    {
     "name": "stdin",
     "output_type": "stream",
     "text": [
      "Please enter an item from the inventory the customer wants to order: mug\n",
      "Do you want to order another item, yes or no? yes\n",
      "Please enter an item from the inventory the customer wants to order: book\n",
      "Do you want to order another item, yes or no?  yes\n",
      "Please enter an item from the inventory the customer wants to order: hat\n",
      "Do you want to order another item, yes or no?  yes\n",
      "Please enter an item from the inventory the customer wants to order: keychain\n",
      "Do you want to order another item, yes or no?  no\n"
     ]
    },
    {
     "name": "stdout",
     "output_type": "stream",
     "text": [
      "Thank you for your order!\n",
      "The customer ordered: {'hat', 'keychain', 'book', 'mug'}\n",
      "The customer ordered 4 products, that is 80.0% of the unique products!\n",
      "The updated inventory is:\n",
      "t-shirts: 10\n",
      "mugs: 3\n",
      "hats: 4\n",
      "books: 5\n",
      "keychains: 66\n"
     ]
    }
   ],
   "source": [
    "def print_updated_inventory (inventory):\n",
    "    print (\"The updated inventory is:\")\n",
    "    for key, value in inventory.items():\n",
    "        print (f\"{key}s: {value}\")\n",
    "\n",
    "inventory = initialize_inventory(products)\n",
    "customer_orders = get_customer_orders()\n",
    "order_statistics = calculate_order_statistics(customer_orders, products)\n",
    "print_stat = print_order_statistics (order_statistics)\n",
    "update_inventory(customer_orders,inventory)\n",
    "updated_inventory = print_updated_inventory(inventory)"
   ]
  },
  {
   "cell_type": "code",
   "execution_count": null,
   "id": "f9b9bddc-5e10-4751-913b-adfba91156cf",
   "metadata": {},
   "outputs": [],
   "source": []
  }
 ],
 "metadata": {
  "kernelspec": {
   "display_name": "Python 3 (ipykernel)",
   "language": "python",
   "name": "python3"
  },
  "language_info": {
   "codemirror_mode": {
    "name": "ipython",
    "version": 3
   },
   "file_extension": ".py",
   "mimetype": "text/x-python",
   "name": "python",
   "nbconvert_exporter": "python",
   "pygments_lexer": "ipython3",
   "version": "3.12.4"
  }
 },
 "nbformat": 4,
 "nbformat_minor": 5
}
